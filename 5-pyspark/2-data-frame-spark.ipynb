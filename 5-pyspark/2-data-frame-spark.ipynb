{
 "cells": [
  {
   "cell_type": "code",
   "execution_count": 3,
   "metadata": {},
   "outputs": [],
   "source": [
    "import numpy as np\n",
    "import pandas as pd"
   ]
  },
  {
   "cell_type": "code",
   "execution_count": 4,
   "metadata": {},
   "outputs": [],
   "source": [
    "from pyspark import SparkContext\n",
    "from pyspark.sql import SQLContext"
   ]
  },
  {
   "cell_type": "markdown",
   "metadata": {},
   "source": [
    "### Aboud data sample\n",
    "\n",
    "I used data from this [link](https://support.spatialkey.com/spatialkey-sample-csv-data/)."
   ]
  },
  {
   "cell_type": "markdown",
   "metadata": {},
   "source": [
    "Other reading variants are [here](https://stackoverflow.com/questions/28782940/load-csv-file-with-spark)."
   ]
  },
  {
   "cell_type": "code",
   "execution_count": 5,
   "metadata": {},
   "outputs": [],
   "source": [
    "sc = SparkContext('local','example')  # using locally"
   ]
  },
  {
   "cell_type": "code",
   "execution_count": 6,
   "metadata": {},
   "outputs": [],
   "source": [
    "sql_sc = SQLContext(sc)"
   ]
  },
  {
   "cell_type": "code",
   "execution_count": 7,
   "metadata": {},
   "outputs": [],
   "source": [
    "pandas_df = pd.read_csv('sample.csv')"
   ]
  },
  {
   "cell_type": "code",
   "execution_count": 8,
   "metadata": {},
   "outputs": [],
   "source": [
    "s_df = sql_sc.createDataFrame(pandas_df)"
   ]
  },
  {
   "cell_type": "code",
   "execution_count": 12,
   "metadata": {},
   "outputs": [
    {
     "name": "stdout",
     "output_type": "stream",
     "text": [
      "+--------+---------+-----------+-------------+-------------+-------------+-------------+---------+----------+------------------+------------------+------------------+------------------+------------------+------------------+-----------+------------+-----------------+\n",
      "|policyID|statecode|     county|eq_site_limit|hu_site_limit|fl_site_limit|fr_site_limit| tiv_2011|  tiv_2012|eq_site_deductible|hu_site_deductible|fl_site_deductible|fr_site_deductible|    point_latitude|   point_longitude|       line|construction|point_granularity|\n",
      "+--------+---------+-----------+-------------+-------------+-------------+-------------+---------+----------+------------------+------------------+------------------+------------------+------------------+------------------+-----------+------------+-----------------+\n",
      "|  119736|       FL|CLAY COUNTY|     498960.0|     498960.0|     498960.0|     498960.0| 498960.0|  792148.9|               0.0|            9979.2|               0.0|                 0|         30.102261|        -81.711777|Residential|     Masonry|                1|\n",
      "|  448094|       FL|CLAY COUNTY|    1322376.3|    1322376.3|    1322376.3|    1322376.3|1322376.3|1438163.57|               0.0|               0.0|               0.0|                 0|30.063935999999998|-81.70766400000001|Residential|     Masonry|                3|\n",
      "|  206893|       FL|CLAY COUNTY|     190724.4|     190724.4|     190724.4|     190724.4| 190724.4| 192476.78|               0.0|               0.0|               0.0|                 0|30.089578999999997|        -81.700455|Residential|        Wood|                1|\n",
      "|  333743|       FL|CLAY COUNTY|          0.0|     79520.76|          0.0|          0.0| 79520.76|  86854.48|               0.0|               0.0|               0.0|                 0|         30.063236|-81.70770300000001|Residential|        Wood|                3|\n",
      "|  172534|       FL|CLAY COUNTY|          0.0|     254281.5|          0.0|     254281.5| 254281.5| 246144.49|               0.0|               0.0|               0.0|                 0|         30.060614|        -81.702675|Residential|        Wood|                1|\n",
      "+--------+---------+-----------+-------------+-------------+-------------+-------------+---------+----------+------------------+------------------+------------------+------------------+------------------+------------------+-----------+------------+-----------------+\n",
      "only showing top 5 rows\n",
      "\n"
     ]
    }
   ],
   "source": [
    "s_df.show(5)"
   ]
  },
  {
   "cell_type": "code",
   "execution_count": 13,
   "metadata": {},
   "outputs": [
    {
     "name": "stdout",
     "output_type": "stream",
     "text": [
      "root\n",
      " |-- policyID: long (nullable = true)\n",
      " |-- statecode: string (nullable = true)\n",
      " |-- county: string (nullable = true)\n",
      " |-- eq_site_limit: double (nullable = true)\n",
      " |-- hu_site_limit: double (nullable = true)\n",
      " |-- fl_site_limit: double (nullable = true)\n",
      " |-- fr_site_limit: double (nullable = true)\n",
      " |-- tiv_2011: double (nullable = true)\n",
      " |-- tiv_2012: double (nullable = true)\n",
      " |-- eq_site_deductible: double (nullable = true)\n",
      " |-- hu_site_deductible: double (nullable = true)\n",
      " |-- fl_site_deductible: double (nullable = true)\n",
      " |-- fr_site_deductible: long (nullable = true)\n",
      " |-- point_latitude: double (nullable = true)\n",
      " |-- point_longitude: double (nullable = true)\n",
      " |-- line: string (nullable = true)\n",
      " |-- construction: string (nullable = true)\n",
      " |-- point_granularity: long (nullable = true)\n",
      "\n"
     ]
    }
   ],
   "source": [
    "s_df.printSchema()"
   ]
  },
  {
   "cell_type": "code",
   "execution_count": 14,
   "metadata": {},
   "outputs": [
    {
     "data": {
      "text/plain": [
       "36634"
      ]
     },
     "execution_count": 14,
     "metadata": {},
     "output_type": "execute_result"
    }
   ],
   "source": [
    "s_df.count()"
   ]
  },
  {
   "cell_type": "code",
   "execution_count": 16,
   "metadata": {},
   "outputs": [
    {
     "name": "stdout",
     "output_type": "stream",
     "text": [
      "+-----------+-------------+-------------+\n",
      "|     county|eq_site_limit|hu_site_limit|\n",
      "+-----------+-------------+-------------+\n",
      "|CLAY COUNTY|     498960.0|     498960.0|\n",
      "|CLAY COUNTY|    1322376.3|    1322376.3|\n",
      "|CLAY COUNTY|     190724.4|     190724.4|\n",
      "|CLAY COUNTY|          0.0|     79520.76|\n",
      "|CLAY COUNTY|          0.0|     254281.5|\n",
      "+-----------+-------------+-------------+\n",
      "only showing top 5 rows\n",
      "\n"
     ]
    }
   ],
   "source": [
    "s_df.select('county','eq_site_limit','hu_site_limit').show(5)"
   ]
  },
  {
   "cell_type": "code",
   "execution_count": 19,
   "metadata": {},
   "outputs": [
    {
     "name": "stdout",
     "output_type": "stream",
     "text": [
      "+-------+-----------------+\n",
      "|summary|           county|\n",
      "+-------+-----------------+\n",
      "|  count|            36634|\n",
      "|   mean|             null|\n",
      "| stddev|             null|\n",
      "|    min|   ALACHUA COUNTY|\n",
      "|    max|WASHINGTON COUNTY|\n",
      "+-------+-----------------+\n",
      "\n"
     ]
    }
   ],
   "source": [
    "s_df.describe('county').show()"
   ]
  },
  {
   "cell_type": "code",
   "execution_count": 24,
   "metadata": {},
   "outputs": [
    {
     "name": "stdout",
     "output_type": "stream",
     "text": [
      "+-----------+-------------+-------------+\n",
      "|     county|eq_site_limit|hu_site_limit|\n",
      "+-----------+-------------+-------------+\n",
      "|CLAY COUNTY|    1322376.3|    1322376.3|\n",
      "+-----------+-------------+-------------+\n",
      "\n"
     ]
    }
   ],
   "source": [
    "s_df.filter(s_df.eq_site_limit=='1322376.3').select('county','eq_site_limit','hu_site_limit').show()"
   ]
  },
  {
   "cell_type": "code",
   "execution_count": 29,
   "metadata": {},
   "outputs": [],
   "source": [
    "#sql_sc.sql('select min(eq_site_limit) from s_df').show()"
   ]
  },
  {
   "cell_type": "code",
   "execution_count": null,
   "metadata": {},
   "outputs": [],
   "source": []
  }
 ],
 "metadata": {
  "kernelspec": {
   "display_name": "Python (env)",
   "language": "python",
   "name": "env"
  },
  "language_info": {
   "codemirror_mode": {
    "name": "ipython",
    "version": 3
   },
   "file_extension": ".py",
   "mimetype": "text/x-python",
   "name": "python",
   "nbconvert_exporter": "python",
   "pygments_lexer": "ipython3",
   "version": "3.6.7"
  }
 },
 "nbformat": 4,
 "nbformat_minor": 2
}
